{
 "cells": [
  {
   "cell_type": "code",
   "execution_count": 1,
   "id": "fe5268e0-ef9c-46ff-b47f-f47354e84d56",
   "metadata": {},
   "outputs": [
    {
     "name": "stdout",
     "output_type": "stream",
     "text": [
      "Processing C:\\Users\\sagni\\Downloads\\Disaster Prediction\\Sentinel2_Before_Disaster_Turkey.tif - Bands: 3, Shape: 5667x5446\n",
      "✅ Saved: C:\\Users\\sagni\\Downloads\\Disaster Prediction\\before_disaster.csv\n",
      "Processing C:\\Users\\sagni\\Downloads\\Disaster Prediction\\Sentinel2_After_Disaster_Turkey.tif - Bands: 3, Shape: 5667x5446\n",
      "✅ Saved: C:\\Users\\sagni\\Downloads\\Disaster Prediction\\after_disaster.csv\n"
     ]
    }
   ],
   "source": [
    "import rasterio\n",
    "import pandas as pd\n",
    "import numpy as np\n",
    "import os\n",
    "\n",
    "def tif_to_csv(tif_path, output_csv_path):\n",
    "    with rasterio.open(tif_path) as src:\n",
    "        bands_data = src.read()  # Shape: (bands, rows, cols)\n",
    "        rows, cols = bands_data.shape[1], bands_data.shape[2]\n",
    "        num_bands = bands_data.shape[0]\n",
    "\n",
    "        print(f\"Processing {tif_path} - Bands: {num_bands}, Shape: {rows}x{cols}\")\n",
    "\n",
    "        data = []\n",
    "\n",
    "        for row in range(rows):\n",
    "            for col in range(cols):\n",
    "                pixel_data = bands_data[:, row, col]\n",
    "                data.append([row, col] + pixel_data.tolist())\n",
    "\n",
    "        # Prepare column names\n",
    "        columns = ['row', 'col'] + [f'B{i+1}' for i in range(num_bands)]\n",
    "\n",
    "        # Save to CSV\n",
    "        df = pd.DataFrame(data, columns=columns)\n",
    "        df.to_csv(output_csv_path, index=False)\n",
    "        print(f\"✅ Saved: {output_csv_path}\")\n",
    "\n",
    "# Input and output paths\n",
    "before_tif = r\"C:\\Users\\sagni\\Downloads\\Disaster Prediction\\Sentinel2_Before_Disaster_Turkey.tif\"\n",
    "after_tif = r\"C:\\Users\\sagni\\Downloads\\Disaster Prediction\\Sentinel2_After_Disaster_Turkey.tif\"\n",
    "\n",
    "before_csv = r\"C:\\Users\\sagni\\Downloads\\Disaster Prediction\\before_disaster.csv\"\n",
    "after_csv = r\"C:\\Users\\sagni\\Downloads\\Disaster Prediction\\after_disaster.csv\"\n",
    "\n",
    "# Convert both\n",
    "tif_to_csv(before_tif, before_csv)\n",
    "tif_to_csv(after_tif, after_csv)\n"
   ]
  },
  {
   "cell_type": "code",
   "execution_count": 2,
   "id": "a1416023-6244-4fc2-b865-d907130f3356",
   "metadata": {},
   "outputs": [
    {
     "name": "stdout",
     "output_type": "stream",
     "text": [
      "Processing C:\\Users\\sagni\\Downloads\\Disaster Prediction\\Sentinel2_Before_Disaster_Turkey.tif => shape: (3, 5667, 5446)\n",
      "✅ Saved before_disaster to C:\\Users\\sagni\\Downloads\\Disaster Prediction\\disaster_data.h5\n",
      "Processing C:\\Users\\sagni\\Downloads\\Disaster Prediction\\Sentinel2_After_Disaster_Turkey.tif => shape: (3, 5667, 5446)\n",
      "✅ Saved after_disaster to C:\\Users\\sagni\\Downloads\\Disaster Prediction\\disaster_data.h5\n"
     ]
    }
   ],
   "source": [
    "import rasterio\n",
    "import h5py\n",
    "import numpy as np\n",
    "import os\n",
    "\n",
    "def tif_to_h5(tif_path, output_h5_path, dataset_name):\n",
    "    with rasterio.open(tif_path) as src:\n",
    "        bands_data = src.read()  # Shape: (bands, height, width)\n",
    "        print(f\"Processing {tif_path} => shape: {bands_data.shape}\")\n",
    "\n",
    "        with h5py.File(output_h5_path, 'a') as h5f:\n",
    "            if dataset_name in h5f:\n",
    "                del h5f[dataset_name]  # remove existing dataset if any\n",
    "            h5f.create_dataset(dataset_name, data=bands_data)\n",
    "            print(f\"✅ Saved {dataset_name} to {output_h5_path}\")\n",
    "\n",
    "# File paths\n",
    "before_tif = r\"C:\\Users\\sagni\\Downloads\\Disaster Prediction\\Sentinel2_Before_Disaster_Turkey.tif\"\n",
    "after_tif = r\"C:\\Users\\sagni\\Downloads\\Disaster Prediction\\Sentinel2_After_Disaster_Turkey.tif\"\n",
    "\n",
    "output_h5 = r\"C:\\Users\\sagni\\Downloads\\Disaster Prediction\\disaster_data.h5\"\n",
    "\n",
    "# Convert both TIFFs to a single H5 file with two datasets\n",
    "tif_to_h5(before_tif, output_h5, dataset_name=\"before_disaster\")\n",
    "tif_to_h5(after_tif, output_h5, dataset_name=\"after_disaster\")\n"
   ]
  },
  {
   "cell_type": "code",
   "execution_count": null,
   "id": "e38e6b0e-b4d6-4018-ae31-4c2cd3a123a7",
   "metadata": {},
   "outputs": [],
   "source": []
  }
 ],
 "metadata": {
  "kernelspec": {
   "display_name": "Python 3.11 (moviepy)",
   "language": "python",
   "name": "py311"
  },
  "language_info": {
   "codemirror_mode": {
    "name": "ipython",
    "version": 3
   },
   "file_extension": ".py",
   "mimetype": "text/x-python",
   "name": "python",
   "nbconvert_exporter": "python",
   "pygments_lexer": "ipython3",
   "version": "3.11.9"
  }
 },
 "nbformat": 4,
 "nbformat_minor": 5
}
