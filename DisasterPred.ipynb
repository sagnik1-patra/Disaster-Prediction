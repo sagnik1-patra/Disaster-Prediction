{
 "cells": [
  {
   "cell_type": "code",
   "execution_count": 1,
   "id": "67338171-fb1c-4590-9398-39dc7f826139",
   "metadata": {},
   "outputs": [
    {
     "name": "stdout",
     "output_type": "stream",
     "text": [
      "Classification Report:\n",
      "               precision    recall  f1-score   support\n",
      "\n",
      "           0       1.00      1.00      1.00  27525008\n",
      "           1       1.00      1.00      1.00    251226\n",
      "\n",
      "    accuracy                           1.00  27776234\n",
      "   macro avg       1.00      1.00      1.00  27776234\n",
      "weighted avg       1.00      1.00      1.00  27776234\n",
      "\n",
      "✅ Model saved at: C:\\Users\\sagni\\Downloads\\Disaster Prediction\\disaster_predictor.pkl\n",
      "🗺️ Prediction heatmap saved at: C:\\Users\\sagni\\Downloads\\Disaster Prediction\\disaster_prediction_heatmap.png\n"
     ]
    }
   ],
   "source": [
    "import h5py\n",
    "import numpy as np\n",
    "import matplotlib.pyplot as plt\n",
    "from sklearn.ensemble import RandomForestClassifier\n",
    "from sklearn.model_selection import train_test_split\n",
    "from sklearn.metrics import classification_report\n",
    "import joblib\n",
    "import os\n",
    "\n",
    "# Paths\n",
    "h5_path = r\"C:\\Users\\sagni\\Downloads\\Disaster Prediction\\disaster_data.h5\"\n",
    "model_save_path = r\"C:\\Users\\sagni\\Downloads\\Disaster Prediction\\disaster_predictor.pkl\"\n",
    "prediction_map_path = r\"C:\\Users\\sagni\\Downloads\\Disaster Prediction\\disaster_prediction_heatmap.png\"\n",
    "\n",
    "# Load HDF5 file\n",
    "with h5py.File(h5_path, 'r') as f:\n",
    "    before = f['before_disaster'][:]  # shape: (bands, height, width)\n",
    "    after = f['after_disaster'][:]\n",
    "\n",
    "# Compute band-wise absolute difference\n",
    "diff = np.abs(after - before)  # shape: (bands, H, W)\n",
    "\n",
    "# Flatten spatial dimensions\n",
    "bands, H, W = diff.shape\n",
    "X = diff.reshape(bands, -1).T  # shape: (H*W, bands)\n",
    "\n",
    "# Create dummy labels based on threshold (mean + std)\n",
    "threshold = diff.mean() + diff.std()\n",
    "labels = (X.mean(axis=1) > threshold).astype(int)  # 1 = disaster-affected, 0 = not\n",
    "\n",
    "# Sample training data\n",
    "X_train, X_test, y_train, y_test = train_test_split(X, labels, train_size=0.1, random_state=42)\n",
    "\n",
    "# Train model\n",
    "model = RandomForestClassifier(n_estimators=100, random_state=42)\n",
    "model.fit(X_train, y_train)\n",
    "\n",
    "# Evaluate\n",
    "y_pred = model.predict(X_test)\n",
    "print(\"Classification Report:\\n\", classification_report(y_test, y_pred))\n",
    "\n",
    "# Save the model\n",
    "joblib.dump(model, model_save_path)\n",
    "print(f\"✅ Model saved at: {model_save_path}\")\n",
    "\n",
    "# Predict full image\n",
    "full_pred = model.predict(X)  # shape: (H*W,)\n",
    "pred_map = full_pred.reshape(H, W)\n",
    "\n",
    "# Visualize prediction heatmap\n",
    "plt.figure(figsize=(10, 8))\n",
    "plt.imshow(pred_map, cmap='Reds')\n",
    "plt.title(\"Predicted Disaster-Affected Areas\")\n",
    "plt.axis('off')\n",
    "plt.colorbar(label='Disaster Probability (0=No, 1=Yes)')\n",
    "plt.savefig(prediction_map_path, bbox_inches='tight')\n",
    "plt.close()\n",
    "\n",
    "print(f\"🗺️ Prediction heatmap saved at: {prediction_map_path}\")\n"
   ]
  },
  {
   "cell_type": "code",
   "execution_count": null,
   "id": "fe992883-1495-439d-8840-d58cabb94b1b",
   "metadata": {},
   "outputs": [],
   "source": []
  }
 ],
 "metadata": {
  "kernelspec": {
   "display_name": "Python 3.11 (moviepy)",
   "language": "python",
   "name": "py311"
  },
  "language_info": {
   "codemirror_mode": {
    "name": "ipython",
    "version": 3
   },
   "file_extension": ".py",
   "mimetype": "text/x-python",
   "name": "python",
   "nbconvert_exporter": "python",
   "pygments_lexer": "ipython3",
   "version": "3.11.9"
  }
 },
 "nbformat": 4,
 "nbformat_minor": 5
}
