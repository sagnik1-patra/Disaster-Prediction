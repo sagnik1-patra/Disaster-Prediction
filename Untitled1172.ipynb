{
 "cells": [
  {
   "cell_type": "code",
   "execution_count": null,
   "id": "1ed086d0-61c1-4388-9954-bc3d71571db5",
   "metadata": {},
   "outputs": [
    {
     "name": "stdout",
     "output_type": "stream",
     "text": [
      "Available keys: ['after_disaster', 'before_disaster']\n"
     ]
    }
   ],
   "source": [
    "import h5py\n",
    "import numpy as np\n",
    "import matplotlib.pyplot as plt\n",
    "from sklearn.model_selection import train_test_split\n",
    "from sklearn.ensemble import RandomForestRegressor\n",
    "from sklearn.metrics import mean_squared_error, r2_score\n",
    "import seaborn as sns\n",
    "\n",
    "# Load data\n",
    "h5_path = \"C:/Users/sagni/Downloads/Disaster Prediction/disaster_data.h5\"\n",
    "with h5py.File(h5_path, 'r') as f:\n",
    "    print(\"Available keys:\", list(f.keys()))\n",
    "    before = f['before_disaster'][:]  # shape: (n_samples, n_features)\n",
    "    after = f['after_disaster'][:]    # shape: (n_samples, n_features)\n",
    "\n",
    "# Flatten images if 3D (assuming shape: (samples, height, width, bands))\n",
    "if before.ndim > 2:\n",
    "    before = before.reshape(before.shape[0], -1)\n",
    "if after.ndim > 2:\n",
    "    after = after.reshape(after.shape[0], -1)\n",
    "\n",
    "# Train-test split\n",
    "X_train, X_test, y_train, y_test = train_test_split(before, after, test_size=0.2, random_state=42)\n",
    "\n",
    "# Train model\n",
    "model = RandomForestRegressor(n_estimators=100, random_state=42)\n",
    "model.fit(X_train, y_train)\n",
    "\n",
    "# Predict\n",
    "y_pred = model.predict(X_test)\n",
    "\n",
    "# Evaluation\n",
    "mse = mean_squared_error(y_test, y_pred)\n",
    "r2 = r2_score(y_test, y_pred)\n",
    "print(f\"Mean Squared Error: {mse:.4f}\")\n",
    "print(f\"R² Score: {r2:.4f}\")\n",
    "\n",
    "# Plot heatmap of predicted vs actual for one test sample\n",
    "sample_idx = 0\n",
    "actual = y_test[sample_idx].reshape(int(np.sqrt(y_test.shape[1])), -1)\n",
    "predicted = y_pred[sample_idx].reshape(actual.shape)\n",
    "\n",
    "plt.figure(figsize=(10, 4))\n",
    "plt.subplot(1, 2, 1)\n",
    "sns.heatmap(actual, cmap='viridis')\n",
    "plt.title(\"Actual After Disaster\")\n",
    "\n",
    "plt.subplot(1, 2, 2)\n",
    "sns.heatmap(predicted, cmap='viridis')\n",
    "plt.title(\"Predicted After Disaster\")\n",
    "plt.tight_layout()\n",
    "plt.show()\n",
    "\n",
    "# Plot future prediction accuracy over test samples\n",
    "r2_scores = [r2_score(y_test[i], y_pred[i]) for i in range(len(y_test))]\n",
    "plt.figure(figsize=(8, 4))\n",
    "plt.plot(r2_scores, marker='o', linestyle='--')\n",
    "plt.title(\"Prediction Accuracy Over Test Samples\")\n",
    "plt.xlabel(\"Sample Index\")\n",
    "plt.ylabel(\"R² Score\")\n",
    "plt.grid(True)\n",
    "plt.tight_layout()\n",
    "plt.show()\n"
   ]
  },
  {
   "cell_type": "code",
   "execution_count": null,
   "id": "ed9e1f08-d173-4967-9388-035b3a7bcdfd",
   "metadata": {},
   "outputs": [],
   "source": []
  }
 ],
 "metadata": {
  "kernelspec": {
   "display_name": "Python 3.11 (moviepy)",
   "language": "python",
   "name": "py311"
  },
  "language_info": {
   "codemirror_mode": {
    "name": "ipython",
    "version": 3
   },
   "file_extension": ".py",
   "mimetype": "text/x-python",
   "name": "python",
   "nbconvert_exporter": "python",
   "pygments_lexer": "ipython3",
   "version": "3.11.9"
  }
 },
 "nbformat": 4,
 "nbformat_minor": 5
}
